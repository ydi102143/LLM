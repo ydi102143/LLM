{
  "cells": [
    {
      "cell_type": "markdown",
      "metadata": {},
      "source": [
        "# 高度なファインチューニング実習\n",
        "\n",
        "このノートブックでは、LLMのファインチューニングの高度なテクニックを学習します。\n",
        "\n",
        "## 学習目標\n",
        "- カスタムデータセットでのファインチューニング\n",
        "- 異なるファインチューニング手法の比較\n",
        "- ハイパーパラメータの最適化\n",
        "- モデルの評価と分析\n",
        "- 実用的なアプリケーションへの応用\n",
        "\n",
        "## 前提条件\n",
        "- LLM基礎実習の完了\n",
        "- PyTorchとTransformersの基本理解\n",
        "- 機械学習の基礎知識\n",
        "\n",
        "## 注意事項\n",
        "- このノートブックは計算集約的です\n",
        "- GPUの使用を強く推奨します\n",
        "- 実行時間は数時間に及ぶ場合があります\n"
      ]
    },
    {
      "cell_type": "markdown",
      "metadata": {},
      "source": [
        "## 1. 環境セットアップとライブラリのインポート\n"
      ]
    },
    {
      "cell_type": "code",
      "execution_count": null,
      "metadata": {},
      "outputs": [],
      "source": [
        "# 必要なライブラリのインストール\n",
        "!pip install torch torchvision torchaudio --index-url https://download.pytorch.org/whl/cu118\n",
        "!pip install transformers datasets accelerate evaluate scikit-learn pandas numpy matplotlib seaborn tqdm wandb\n",
        "!pip install peft bitsandbytes  # LoRA用のライブラリ\n",
        "\n",
        "# ライブラリのインポート\n",
        "import torch\n",
        "import torch.nn as nn\n",
        "from torch.utils.data import Dataset, DataLoader\n",
        "from transformers import (\n",
        "    AutoTokenizer, \n",
        "    AutoModelForCausalLM,\n",
        "    TrainingArguments, \n",
        "    Trainer,\n",
        "    DataCollatorForLanguageModeling,\n",
        "    BitsAndBytesConfig\n",
        ")\n",
        "from peft import LoraConfig, get_peft_model, TaskType\n",
        "from datasets import Dataset as HFDataset, load_dataset\n",
        "import pandas as pd\n",
        "import numpy as np\n",
        "import matplotlib.pyplot as plt\n",
        "import seaborn as sns\n",
        "from sklearn.metrics import accuracy_score, f1_score, classification_report\n",
        "import json\n",
        "import os\n",
        "from tqdm import tqdm\n",
        "import warnings\n",
        "warnings.filterwarnings('ignore')\n",
        "\n",
        "# 環境設定\n",
        "plt.style.use('default')\n",
        "sns.set_palette(\"husl\")\n",
        "\n",
        "print(\"✅ ライブラリのインポートが完了しました\")\n",
        "print(f\"PyTorch version: {torch.__version__}\")\n",
        "print(f\"CUDA available: {torch.cuda.is_available()}\")\n",
        "if torch.cuda.is_available():\n",
        "    print(f\"GPU: {torch.cuda.get_device_name(0)}\")\n",
        "    print(f\"GPU Memory: {torch.cuda.get_device_properties(0).total_memory / 1024**3:.1f} GB\")\n"
      ]
    }
  ],
  "metadata": {
    "language_info": {
      "name": "python"
    }
  },
  "nbformat": 4,
  "nbformat_minor": 2
}
